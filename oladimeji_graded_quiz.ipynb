{
  "nbformat": 4,
  "nbformat_minor": 0,
  "metadata": {
    "colab": {
      "name": "oladimeji_graded_quiz.ipynb",
      "provenance": [],
      "collapsed_sections": [],
      "authorship_tag": "ABX9TyMqKqYarwGEVSjwiYwNtLbA",
      "include_colab_link": true
    },
    "kernelspec": {
      "name": "python3",
      "display_name": "Python 3"
    },
    "language_info": {
      "name": "python"
    }
  },
  "cells": [
    {
      "cell_type": "markdown",
      "metadata": {
        "id": "view-in-github",
        "colab_type": "text"
      },
      "source": [
        "<a href=\"https://colab.research.google.com/github/Osebobo/INTRODUCTION-TO-PYTHON-FOR-MACHINE-LEARNING/blob/master/oladimeji_graded_quiz.ipynb\" target=\"_parent\"><img src=\"https://colab.research.google.com/assets/colab-badge.svg\" alt=\"Open In Colab\"/></a>"
      ]
    },
    {
      "cell_type": "markdown",
      "metadata": {
        "id": "SHR2qCbuugmg"
      },
      "source": [
        "# Oladimeji Adeyemi Code"
      ]
    },
    {
      "cell_type": "code",
      "metadata": {
        "colab": {
          "base_uri": "https://localhost:8080/"
        },
        "id": "dKOJIK23HpUR",
        "outputId": "b8572acd-19aa-4687-bc16-2b1c6a68776d"
      },
      "source": [
        "import numpy as np\n",
        "import pandas as pd\n",
        "\n",
        "# Question 1\n",
        "A = [1,2,3,4,5,6]\n",
        "B = [13, 21, 34]\n",
        "A.extend(B)\n",
        "A_B = A\n",
        "print(\"Question 1 Answer: \", A_B)\n",
        "\n",
        "# Question 2\n",
        "B = np.identity(3)\n",
        "print(\"Question 2 Answer: \", B)\n",
        "\n",
        "\n",
        "url='http://bit.ly/HDSC-Dataset'\n",
        "fuel_data = pd.read_csv(url, error_bad_lines=False)\n",
        "\n",
        "# Question 3\n",
        "print(\"Question 3 Answer: \", fuel_data['fuel_type_code_pudl'].min())\n",
        "\n",
        "# Question 4\n",
        "print(\"Question 4 Answer: \", round(fuel_data['fuel_mmbtu_per_unit'].describe(),2))\n",
        "\n",
        "# Question 5\n",
        "skewness = round(fuel_data['fuel_qty_burned'].skew(),2)\n",
        "kurtosis = round(fuel_data['fuel_qty_burned'].kurt(),2)\n",
        "print(f\"Question 5 Answer: skewness is {skewness} and kurtosis is {kurtosis}\")\n",
        "\n",
        "# Question 6\n",
        "fuel_data.describe(include='all')\n",
        "fuel_data.isnull().sum()\n",
        "round(fuel_data.isnull().sum()* 100 / len(fuel_data),2)\n",
        "print(\"Question 6 Answer: Feature: fuel_unit, Total: 180, Percent: 0.61\")\n",
        "\n",
        "# Question 7\n",
        "print(\"Question 7 Answer: Categorical and mean imputation\")\n",
        "\n",
        "# Question 8\n",
        "fuel_data.corr()\n",
        "print(\"Question 8 Answer: fuel_qty_burned and fuel_mmbtu_per_unit\")\n",
        "\n",
        "# Question 9\n",
        "\n",
        "# Question 10\n",
        "print(\"Question 10 Answer: \", fuel_data['report_year'].max())\n",
        "\n",
        "\n",
        "\n",
        "\n",
        "\n",
        "\n",
        "\n",
        "\n"
      ],
      "execution_count": 58,
      "outputs": [
        {
          "output_type": "stream",
          "text": [
            "Question 1 Answer:  [1, 2, 3, 4, 5, 6, 13, 21, 34]\n",
            "Question 2 Answer:  [[1. 0. 0.]\n",
            " [0. 1. 0.]\n",
            " [0. 0. 1.]]\n",
            "Question 3 Answer:  coal\n",
            "Question 4 Answer:  count    29523.00\n",
            "mean         8.49\n",
            "std         10.60\n",
            "min          0.00\n",
            "25%          1.02\n",
            "50%          5.76\n",
            "75%         17.01\n",
            "max        341.26\n",
            "Name: fuel_mmbtu_per_unit, dtype: float64\n",
            "Question 5 Answer: skewness is 15.85 and kurtosis is 651.37\n",
            "Question 6 Answer: Feature: fuel_unit, Total: 180, Percent: 0.61\n",
            "Question 7 Answer: Categorical and mean imputation\n",
            "Question 8 Answer: fuel_qty_burned and fuel_mmbtu_per_unit\n",
            "Question 9 Answer:  25\n",
            "Question 10 Answer:  2018\n"
          ],
          "name": "stdout"
        }
      ]
    }
  ]
}